{
 "cells": [
  {
   "cell_type": "code",
   "execution_count": 1,
   "id": "1883de0e-69e3-4f68-8601-caee62fe2d65",
   "metadata": {},
   "outputs": [],
   "source": [
    "import os\n",
    "import openpyxl\n",
    "import time"
   ]
  },
  {
   "cell_type": "code",
   "execution_count": 2,
   "id": "b33e3c30-22ed-488a-ad5b-4854e9740346",
   "metadata": {},
   "outputs": [],
   "source": [
    "folder_name = 'Akhbarona/'"
   ]
  },
  {
   "cell_type": "code",
   "execution_count": 3,
   "id": "26ac77a7-6308-45eb-9077-7cf12517cb61",
   "metadata": {},
   "outputs": [],
   "source": [
    "my_list = os.listdir(folder_name)"
   ]
  },
  {
   "cell_type": "markdown",
   "id": "37fd6565-e7d7-4abe-aa12-eead8c7533ef",
   "metadata": {},
   "source": [
    "### Read Text files from Directories"
   ]
  },
  {
   "cell_type": "code",
   "execution_count": 4,
   "id": "eb606a86-ef24-4c28-b715-4c32c101cb61",
   "metadata": {},
   "outputs": [],
   "source": [
    "start = time.process_time()\n",
    "rows = []\n",
    "temp = []\n",
    "rows.append(['News', 'Type'])\n",
    "for dir_name in my_list:\n",
    "    for i in range(0, 6701):\n",
    "        file_name = folder_name+dir_name+'/'+os.listdir(folder_name+dir_name)[i]\n",
    "        with open(file_name, encoding=\"utf-8\") as txt:\n",
    "            file = txt.read().replace('\\n', '')\n",
    "            temp.append(file)\n",
    "            temp.append(dir_name)\n",
    "            rows.append(temp)\n",
    "            temp = []"
   ]
  },
  {
   "cell_type": "markdown",
   "id": "2e8844b9-c654-4ba3-925d-fba7b828cc99",
   "metadata": {},
   "source": [
    "### Creating an Excel Sheet"
   ]
  },
  {
   "cell_type": "code",
   "execution_count": 5,
   "id": "9592ec8f-89ea-43e7-a27e-42e4bd5d303d",
   "metadata": {},
   "outputs": [
    {
     "name": "stdout",
     "output_type": "stream",
     "text": [
      "Time taken to create the Excel sheet:  190.65625\n"
     ]
    }
   ],
   "source": [
    "## initializing the xlsx\n",
    "xlsx = openpyxl.Workbook()\n",
    "\n",
    "## creating an active sheet to enter data\n",
    "sheet = xlsx.active\n",
    "\n",
    "## appending row by row to the sheet\n",
    "for row in rows:\n",
    "    ## append method is used to append the data to a cell\n",
    "    sheet.append(row)\n",
    "\n",
    "## saving the xlsx file using 'save' method\n",
    "xlsx.save('news.xlsx')\n",
    "print('Time taken to create the Excel sheet: ', time.process_time() - start)"
   ]
  }
 ],
 "metadata": {
  "kernelspec": {
   "display_name": "Python 3",
   "language": "python",
   "name": "python3"
  },
  "language_info": {
   "codemirror_mode": {
    "name": "ipython",
    "version": 3
   },
   "file_extension": ".py",
   "mimetype": "text/x-python",
   "name": "python",
   "nbconvert_exporter": "python",
   "pygments_lexer": "ipython3",
   "version": "3.8.8"
  }
 },
 "nbformat": 4,
 "nbformat_minor": 5
}
